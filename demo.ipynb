{
 "cells": [
  {
   "cell_type": "code",
   "execution_count": null,
   "id": "ae5f4636-1a4b-4c58-81e9-7d11cb6cb3bb",
   "metadata": {},
   "outputs": [],
   "source": [
    "%load_ext autoreload\n",
    "%autoreload 2\n",
    "%load_ext anywidget\n",
    "%env ANYWIDGET_HMR=1"
   ]
  },
  {
   "cell_type": "code",
   "execution_count": null,
   "id": "de780416-a78c-4ec3-8806-fdb252f907bb",
   "metadata": {},
   "outputs": [],
   "source": [
    "import ipytable\n",
    "from vega_datasets import data\n",
    "\n",
    "ipytable.Widget(data.cars())"
   ]
  },
  {
   "cell_type": "code",
   "execution_count": null,
   "id": "e9887c09-c132-4b4d-a29f-3a71b2079365",
   "metadata": {},
   "outputs": [],
   "source": [
    "ipytable.Widget(data.barley())"
   ]
  },
  {
   "cell_type": "code",
   "execution_count": null,
   "id": "a5d2bdc5-b858-453c-92d3-de9921f7bfce",
   "metadata": {},
   "outputs": [],
   "source": [
    "ipytable.Widget(data.airports())"
   ]
  },
  {
   "cell_type": "code",
   "execution_count": null,
   "id": "5758b272-e2b8-4e6f-86d1-9fc5d0fa554a",
   "metadata": {},
   "outputs": [],
   "source": [
    "ipytable.Widget(data.budgets())"
   ]
  }
 ],
 "metadata": {
  "kernelspec": {
   "display_name": "Python 3 (ipykernel)",
   "language": "python",
   "name": "python3"
  },
  "language_info": {
   "codemirror_mode": {
    "name": "ipython",
    "version": 3
   },
   "file_extension": ".py",
   "mimetype": "text/x-python",
   "name": "python",
   "nbconvert_exporter": "python",
   "pygments_lexer": "ipython3",
   "version": "3.12.2"
  },
  "widgets": {
   "application/vnd.jupyter.widget-state+json": {
    "state": {},
    "version_major": 2,
    "version_minor": 0
   }
  }
 },
 "nbformat": 4,
 "nbformat_minor": 5
}
